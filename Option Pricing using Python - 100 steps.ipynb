{
 "cells": [
  {
   "cell_type": "markdown",
   "id": "2fa35d47",
   "metadata": {},
   "source": [
    "# Option Pricing using Python - 100 steps\n"
   ]
  },
  {
   "cell_type": "code",
   "execution_count": 1,
   "id": "a5d4dcf9",
   "metadata": {},
   "outputs": [],
   "source": [
    "import numpy as np\n",
    "import math"
   ]
  },
  {
   "cell_type": "code",
   "execution_count": 2,
   "id": "91816df5",
   "metadata": {},
   "outputs": [],
   "source": [
    "s0 = 100\n",
    "k = 104\n",
    "t = 2\n",
    "r = 0.06\n",
    "n = 100\n",
    "u = 1.2**(math.sqrt(t/n))\n",
    "d = 1/u\n",
    "dt = t/n"
   ]
  },
  {
   "cell_type": "code",
   "execution_count": 3,
   "id": "b419fdc4",
   "metadata": {},
   "outputs": [],
   "source": [
    "def binomial_tree(k, t, s0, r, n, u, d):\n",
    "    #precompute constants\n",
    "    dt = t/n\n",
    "    q = (np.exp(r*dt)-d)/(u-d)\n",
    "    disc = np.exp(-r*dt)\n",
    "    \n",
    "    #initialise asset prices at maturity - time step n\n",
    "    s = np.zeros(n+1)\n",
    "    s[0] = s0*d**n\n",
    "    for j in range (1, n+1):\n",
    "        s[j] = s[j-1]*u/d\n",
    "        \n",
    "    #initialise option values at maturity\n",
    "    c = np.zeros(n+1)\n",
    "    for j in range (0, n+1):\n",
    "        c[j] = max(0, s[j]-k)\n",
    "    \n",
    "    #step backwards through trees\n",
    "    for i in np.arange(n, 0, -1):\n",
    "        for j in range (0, i):\n",
    "            c[j] = disc* (q*c[j+1] + (1-q)*c[j])\n",
    "    return c[0]\n",
    "    "
   ]
  },
  {
   "cell_type": "code",
   "execution_count": 4,
   "id": "99eb4ee3",
   "metadata": {},
   "outputs": [
    {
     "name": "stdout",
     "output_type": "stream",
     "text": [
      "Present value i.e. MTM os the European CALL option is: 14.220881878233463\n"
     ]
    }
   ],
   "source": [
    "print(\"Present value i.e. MTM os the European CALL option is:\",binomial_tree(k,t,s0,r,n,u,d))"
   ]
  },
  {
   "cell_type": "code",
   "execution_count": 5,
   "id": "e0efe568",
   "metadata": {},
   "outputs": [],
   "source": [
    "def binomial_tree(k,t,s0,r,n,u,d):\n",
    "    \n",
    "    #precompute constants\n",
    "    dt = t/n\n",
    "    q = (np.exp(r*dt)-d)/(u-d)\n",
    "    disc = np.exp(-r*dt)\n",
    "    \n",
    "    #initialise asset prices at maturity - time step n\n",
    "    s = np.zeros(n+1)\n",
    "    s[0] = s0*d**n\n",
    "    for j in range (1, n+1):\n",
    "        s[j] = s[j-1]*u/d\n",
    "        \n",
    "    #initialise option values at maturity\n",
    "    p = np.zeros(n+1)\n",
    "    for j in range (0, n+1):\n",
    "        p[j] = max(k-s[j], 0)\n",
    "    \n",
    "    #step backwards through trees\n",
    "    for i in np.arange(n, 0, -1):\n",
    "        for j in range (0, i):\n",
    "            p[j] = disc* (q*p[j+1] + (1-q)*p[j])\n",
    "            \n",
    "    return p[0]"
   ]
  },
  {
   "cell_type": "code",
   "execution_count": 8,
   "id": "0fb66c3a",
   "metadata": {},
   "outputs": [
    {
     "name": "stdout",
     "output_type": "stream",
     "text": [
      "Present value i.e. MTM os the European PUT option is: 6.460607296818184\n"
     ]
    }
   ],
   "source": [
    "print(\"Present value i.e. MTM os the European PUT option is:\",binomial_tree(k,t,s0,r,n,u,d))"
   ]
  },
  {
   "cell_type": "code",
   "execution_count": null,
   "id": "c23a8cc4",
   "metadata": {},
   "outputs": [],
   "source": []
  }
 ],
 "metadata": {
  "kernelspec": {
   "display_name": "Python 3 (ipykernel)",
   "language": "python",
   "name": "python3"
  },
  "language_info": {
   "codemirror_mode": {
    "name": "ipython",
    "version": 3
   },
   "file_extension": ".py",
   "mimetype": "text/x-python",
   "name": "python",
   "nbconvert_exporter": "python",
   "pygments_lexer": "ipython3",
   "version": "3.10.9"
  }
 },
 "nbformat": 4,
 "nbformat_minor": 5
}
